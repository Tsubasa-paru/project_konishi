{
 "cells": [
  {
   "cell_type": "code",
   "execution_count": 158,
   "metadata": {},
   "outputs": [],
   "source": [
    "import pandas as pd\n",
    "import numpy as np\n",
    "from sklearn.model_selection import train_test_split\n",
    "from sklearn.metrics import accuracy_score\n",
    "from sklearn.metrics import precision_score\n",
    "from sklearn.ensemble import RandomForestClassifier\n",
    "from sklearn.metrics import confusion_matrix\n",
    "from pandas.plotting import scatter_matrix\n",
    "from sklearn.metrics import classification_report\n",
    "from sklearn.feature_selection import VarianceThreshold\n",
    "from sklearn.metrics import roc_auc_score\n",
    "#from mlxtend.feature_selection import SequentialFeatureSelector as SFS\n",
    "import matplotlib.pyplot as plt\n",
    "from sklearn.model_selection import GridSearchCV\n",
    "from sklearn.model_selection import RandomizedSearchCV\n",
    "from sklearn.metrics import r2_score\n",
    "from sklearn.model_selection import cross_val_score\n",
    "import time\n",
    "\n",
    "from matplotlib import rcParams\n",
    "rcParams['font.family'] = 'sans-serif'\n",
    "rcParams['font.sans-serif'] = ['Hiragino Maru Gothic Pro', 'Yu Gothic', 'Meirio', 'Takao', 'IPAexGothic', 'IPAPGothic', 'VL PGothic', 'Noto Sans CJK JP']\n",
    "\n",
    "ac = pd.read_csv(\"watch_acc.csv\",encoding=\"SJIS\")\n",
    "pl = pd.read_csv(\"activpal.csv\",encoding=\"SJIS\")"
   ]
  },
  {
   "cell_type": "code",
   "execution_count": 159,
   "metadata": {},
   "outputs": [],
   "source": [
    "#pl.describe()\n",
    "#pl.columns\n",
    "#ac.columns"
   ]
  },
  {
   "cell_type": "code",
   "execution_count": 160,
   "metadata": {},
   "outputs": [],
   "source": [
    "ac_acc=ac[[\"Acceleration.x\",\"Acceleration.y\",\"Acceleration.z\"]]\n",
    "pl_type= pl[[\"Time\",\"Duration (s)\",\"Event Type\"]]"
   ]
  },
  {
   "cell_type": "code",
   "execution_count": 161,
   "metadata": {},
   "outputs": [
    {
     "name": "stdout",
     "output_type": "stream",
     "text": [
      "<class 'pandas.core.frame.DataFrame'>\n",
      "RangeIndex: 188 entries, 0 to 187\n",
      "Data columns (total 3 columns):\n",
      "Time            188 non-null float64\n",
      "Duration (s)    188 non-null float64\n",
      "Event Type      188 non-null int64\n",
      "dtypes: float64(2), int64(1)\n",
      "memory usage: 4.5 KB\n",
      "<class 'pandas.core.frame.DataFrame'>\n",
      "RangeIndex: 5199 entries, 0 to 5198\n",
      "Data columns (total 3 columns):\n",
      "Acceleration.x    5199 non-null float64\n",
      "Acceleration.y    5199 non-null float64\n",
      "Acceleration.z    5199 non-null float64\n",
      "dtypes: float64(3)\n",
      "memory usage: 121.9 KB\n"
     ]
    },
    {
     "data": {
      "text/html": [
       "<div>\n",
       "<style scoped>\n",
       "    .dataframe tbody tr th:only-of-type {\n",
       "        vertical-align: middle;\n",
       "    }\n",
       "\n",
       "    .dataframe tbody tr th {\n",
       "        vertical-align: top;\n",
       "    }\n",
       "\n",
       "    .dataframe thead th {\n",
       "        text-align: right;\n",
       "    }\n",
       "</style>\n",
       "<table border=\"1\" class=\"dataframe\">\n",
       "  <thead>\n",
       "    <tr style=\"text-align: right;\">\n",
       "      <th></th>\n",
       "      <th>0</th>\n",
       "      <th>1</th>\n",
       "      <th>2</th>\n",
       "      <th>3</th>\n",
       "      <th>4</th>\n",
       "      <th>5</th>\n",
       "      <th>6</th>\n",
       "      <th>7</th>\n",
       "      <th>8</th>\n",
       "      <th>9</th>\n",
       "      <th>...</th>\n",
       "      <th>178</th>\n",
       "      <th>179</th>\n",
       "      <th>180</th>\n",
       "      <th>181</th>\n",
       "      <th>182</th>\n",
       "      <th>183</th>\n",
       "      <th>184</th>\n",
       "      <th>185</th>\n",
       "      <th>186</th>\n",
       "      <th>187</th>\n",
       "    </tr>\n",
       "  </thead>\n",
       "  <tbody>\n",
       "    <tr>\n",
       "      <th>Time</th>\n",
       "      <td>44091.45418</td>\n",
       "      <td>44091.4542</td>\n",
       "      <td>44091.45425</td>\n",
       "      <td>44091.45446</td>\n",
       "      <td>44091.45703</td>\n",
       "      <td>44091.45724</td>\n",
       "      <td>44091.46306</td>\n",
       "      <td>44091.46339</td>\n",
       "      <td>44091.46499</td>\n",
       "      <td>44091.46505</td>\n",
       "      <td>...</td>\n",
       "      <td>44091.48994</td>\n",
       "      <td>44091.48996</td>\n",
       "      <td>44091.48997</td>\n",
       "      <td>44091.48998</td>\n",
       "      <td>44091.49</td>\n",
       "      <td>44091.49002</td>\n",
       "      <td>44091.49004</td>\n",
       "      <td>44091.49005</td>\n",
       "      <td>44091.49356</td>\n",
       "      <td>44091.49381</td>\n",
       "    </tr>\n",
       "    <tr>\n",
       "      <th>Duration (s)</th>\n",
       "      <td>1.70000</td>\n",
       "      <td>3.7000</td>\n",
       "      <td>18.90000</td>\n",
       "      <td>222.10000</td>\n",
       "      <td>17.80000</td>\n",
       "      <td>502.80000</td>\n",
       "      <td>28.30000</td>\n",
       "      <td>138.20000</td>\n",
       "      <td>5.70000</td>\n",
       "      <td>1.90000</td>\n",
       "      <td>...</td>\n",
       "      <td>1.30000</td>\n",
       "      <td>0.90000</td>\n",
       "      <td>1.10000</td>\n",
       "      <td>1.20000</td>\n",
       "      <td>1.80</td>\n",
       "      <td>2.40000</td>\n",
       "      <td>0.30000</td>\n",
       "      <td>303.80000</td>\n",
       "      <td>21.00000</td>\n",
       "      <td>2141.50000</td>\n",
       "    </tr>\n",
       "    <tr>\n",
       "      <th>Event Type</th>\n",
       "      <td>2.00000</td>\n",
       "      <td>2.0000</td>\n",
       "      <td>1.00000</td>\n",
       "      <td>0.00000</td>\n",
       "      <td>1.00000</td>\n",
       "      <td>0.00000</td>\n",
       "      <td>1.00000</td>\n",
       "      <td>0.00000</td>\n",
       "      <td>1.00000</td>\n",
       "      <td>2.00000</td>\n",
       "      <td>...</td>\n",
       "      <td>2.00000</td>\n",
       "      <td>2.00000</td>\n",
       "      <td>2.00000</td>\n",
       "      <td>2.00000</td>\n",
       "      <td>2.00</td>\n",
       "      <td>2.00000</td>\n",
       "      <td>1.00000</td>\n",
       "      <td>5.00000</td>\n",
       "      <td>1.00000</td>\n",
       "      <td>0.00000</td>\n",
       "    </tr>\n",
       "  </tbody>\n",
       "</table>\n",
       "<p>3 rows × 188 columns</p>\n",
       "</div>"
      ],
      "text/plain": [
       "                      0           1            2            3            4    \\\n",
       "Time          44091.45418  44091.4542  44091.45425  44091.45446  44091.45703   \n",
       "Duration (s)      1.70000      3.7000     18.90000    222.10000     17.80000   \n",
       "Event Type        2.00000      2.0000      1.00000      0.00000      1.00000   \n",
       "\n",
       "                      5            6            7            8            9    \\\n",
       "Time          44091.45724  44091.46306  44091.46339  44091.46499  44091.46505   \n",
       "Duration (s)    502.80000     28.30000    138.20000      5.70000      1.90000   \n",
       "Event Type        0.00000      1.00000      0.00000      1.00000      2.00000   \n",
       "\n",
       "              ...          178          179          180          181  \\\n",
       "Time          ...  44091.48994  44091.48996  44091.48997  44091.48998   \n",
       "Duration (s)  ...      1.30000      0.90000      1.10000      1.20000   \n",
       "Event Type    ...      2.00000      2.00000      2.00000      2.00000   \n",
       "\n",
       "                   182          183          184          185          186  \\\n",
       "Time          44091.49  44091.49002  44091.49004  44091.49005  44091.49356   \n",
       "Duration (s)      1.80      2.40000      0.30000    303.80000     21.00000   \n",
       "Event Type        2.00      2.00000      1.00000      5.00000      1.00000   \n",
       "\n",
       "                      187  \n",
       "Time          44091.49381  \n",
       "Duration (s)   2141.50000  \n",
       "Event Type        0.00000  \n",
       "\n",
       "[3 rows x 188 columns]"
      ]
     },
     "execution_count": 161,
     "metadata": {},
     "output_type": "execute_result"
    }
   ],
   "source": [
    "pl_type.info()\n",
    "ac_acc.info()\n",
    "pl_type_t = pl_type.T\n",
    "target = list()\n",
    "pl_type_t.head()"
   ]
  },
  {
   "cell_type": "code",
   "execution_count": 163,
   "metadata": {},
   "outputs": [
    {
     "name": "stdout",
     "output_type": "stream",
     "text": [
      "5565.0\n",
      "5199\n"
     ]
    }
   ],
   "source": [
    "print(pl_type[\"Duration (s)\"].sum())\n",
    "print(ac_acc[\"Acceleration.x\"].count())"
   ]
  },
  {
   "cell_type": "code",
   "execution_count": 164,
   "metadata": {},
   "outputs": [
    {
     "data": {
      "text/plain": [
       "5563"
      ]
     },
     "execution_count": 164,
     "metadata": {},
     "output_type": "execute_result"
    }
   ],
   "source": [
    "n=0\n",
    "m=0\n",
    "for count in pl_type[\"Duration (s)\"]:\n",
    "    c= round(count)\n",
    "    for i in range(c):\n",
    "        target.append(pl_type_t.iat[2,n])\n",
    "        #print(pl_type_t.iat[2,n])\n",
    "        #print(m)\n",
    "        m+=1\n",
    "    n+=1\n",
    "len(target)"
   ]
  },
  {
   "cell_type": "code",
   "execution_count": 165,
   "metadata": {},
   "outputs": [
    {
     "data": {
      "text/plain": [
       "5199"
      ]
     },
     "execution_count": 165,
     "metadata": {},
     "output_type": "execute_result"
    }
   ],
   "source": [
    "del target[5199:]\n",
    "len(target)"
   ]
  },
  {
   "cell_type": "code",
   "execution_count": 166,
   "metadata": {},
   "outputs": [
    {
     "data": {
      "text/plain": [
       "Index(['Acceleration.x', 'Acceleration.y', 'Acceleration.z'], dtype='object')"
      ]
     },
     "execution_count": 166,
     "metadata": {},
     "output_type": "execute_result"
    }
   ],
   "source": [
    "y = pd.Series(target)\n",
    "x = ac_acc\n",
    "x.columns"
   ]
  },
  {
   "cell_type": "code",
   "execution_count": 168,
   "metadata": {},
   "outputs": [
    {
     "data": {
      "text/html": [
       "<div>\n",
       "<style scoped>\n",
       "    .dataframe tbody tr th:only-of-type {\n",
       "        vertical-align: middle;\n",
       "    }\n",
       "\n",
       "    .dataframe tbody tr th {\n",
       "        vertical-align: top;\n",
       "    }\n",
       "\n",
       "    .dataframe thead th {\n",
       "        text-align: right;\n",
       "    }\n",
       "</style>\n",
       "<table border=\"1\" class=\"dataframe\">\n",
       "  <thead>\n",
       "    <tr style=\"text-align: right;\">\n",
       "      <th></th>\n",
       "      <th>Acceleration.x</th>\n",
       "      <th>Acceleration.y</th>\n",
       "      <th>Acceleration.z</th>\n",
       "    </tr>\n",
       "  </thead>\n",
       "  <tbody>\n",
       "    <tr>\n",
       "      <th>0</th>\n",
       "      <td>-0.011730</td>\n",
       "      <td>0.014637</td>\n",
       "      <td>0.005996</td>\n",
       "    </tr>\n",
       "    <tr>\n",
       "      <th>1</th>\n",
       "      <td>0.063186</td>\n",
       "      <td>0.049658</td>\n",
       "      <td>0.038619</td>\n",
       "    </tr>\n",
       "    <tr>\n",
       "      <th>2</th>\n",
       "      <td>-0.099316</td>\n",
       "      <td>-0.144103</td>\n",
       "      <td>-0.047931</td>\n",
       "    </tr>\n",
       "    <tr>\n",
       "      <th>3</th>\n",
       "      <td>0.127855</td>\n",
       "      <td>-0.084690</td>\n",
       "      <td>0.108686</td>\n",
       "    </tr>\n",
       "    <tr>\n",
       "      <th>4</th>\n",
       "      <td>0.024570</td>\n",
       "      <td>-0.068620</td>\n",
       "      <td>-0.012709</td>\n",
       "    </tr>\n",
       "  </tbody>\n",
       "</table>\n",
       "</div>"
      ],
      "text/plain": [
       "   Acceleration.x  Acceleration.y  Acceleration.z\n",
       "0       -0.011730        0.014637        0.005996\n",
       "1        0.063186        0.049658        0.038619\n",
       "2       -0.099316       -0.144103       -0.047931\n",
       "3        0.127855       -0.084690        0.108686\n",
       "4        0.024570       -0.068620       -0.012709"
      ]
     },
     "execution_count": 168,
     "metadata": {},
     "output_type": "execute_result"
    }
   ],
   "source": [
    "x.head()"
   ]
  },
  {
   "cell_type": "code",
   "execution_count": 169,
   "metadata": {},
   "outputs": [],
   "source": [
    "com = np.sqrt(x[\"Acceleration.x\"]**2+x[\"Acceleration.y\"]**2+x[\"Acceleration.z\"]**2) \n",
    "x = x.assign(com_acc=com)\n",
    "#x.append(com,ignore_index=True)"
   ]
  },
  {
   "cell_type": "code",
   "execution_count": 170,
   "metadata": {},
   "outputs": [
    {
     "data": {
      "text/plain": [
       "(array([2742.,    0.,  918.,    0.,  232.,    0.,    0.,    0.,    0.,\n",
       "        1307.]),\n",
       " array([0. , 0.5, 1. , 1.5, 2. , 2.5, 3. , 3.5, 4. , 4.5, 5. ]),\n",
       " <a list of 10 Patch objects>)"
      ]
     },
     "execution_count": 170,
     "metadata": {},
     "output_type": "execute_result"
    },
    {
     "data": {
      "image/png": "[encoded data removed]",
      "text/plain": [
       "<Figure size 432x288 with 1 Axes>"
      ]
     },
     "metadata": {
      "needs_background": "light"
     },
     "output_type": "display_data"
    }
   ],
   "source": [
    "plt.hist(y)"
   ]
  },
  {
   "cell_type": "code",
   "execution_count": 171,
   "metadata": {},
   "outputs": [
    {
     "data": {
      "text/plain": [
       "<matplotlib.axes._subplots.AxesSubplot at 0x122840c6860>"
      ]
     },
     "execution_count": 171,
     "metadata": {},
     "output_type": "execute_result"
    },
    {
     "data": {
      "image/png": "[encoded data removed]",
      "text/plain": [
       "<Figure size 432x288 with 1 Axes>"
      ]
     },
     "metadata": {
      "needs_background": "light"
     },
     "output_type": "display_data"
    }
   ],
   "source": [
    "#x[\"Acceleration.x\"].plot()\n",
    "x[\"com_acc\"].plot()"
   ]
  },
  {
   "cell_type": "code",
   "execution_count": 172,
   "metadata": {},
   "outputs": [],
   "source": [
    "(x_train, x_test ,y_train, y_test) = train_test_split(x, y, test_size = 0.25,random_state=0)"
   ]
  },
  {
   "cell_type": "code",
   "execution_count": 174,
   "metadata": {},
   "outputs": [
    {
     "name": "stdout",
     "output_type": "stream",
     "text": [
      "TrainAccuracy: 0.5301359322903308\n"
     ]
    }
   ],
   "source": [
    "random_forest = RandomForestClassifier(max_depth=3, n_estimators=70, random_state=0)\n",
    "random_forest.fit(x_train, y_train)\n",
    "\n",
    "y_pred = random_forest.predict(x_test)\n",
    "\n",
    "trainaccuracy_random_forest = random_forest.score(x_train, y_train)\n",
    "print('TrainAccuracy: {}'.format(trainaccuracy_random_forest))"
   ]
  },
  {
   "cell_type": "code",
   "execution_count": 178,
   "metadata": {},
   "outputs": [
    {
     "name": "stdout",
     "output_type": "stream",
     "text": [
      "Accuracy: 0.54\n"
     ]
    }
   ],
   "source": [
    "accuracy_random_forest = accuracy_score(y_test, y_pred)\n",
    "print('Accuracy: {}'.format(accuracy_random_forest))"
   ]
  },
  {
   "cell_type": "code",
   "execution_count": 176,
   "metadata": {},
   "outputs": [
    {
     "data": {
      "text/plain": [
       "<matplotlib.axes._subplots.AxesSubplot at 0x122cc6521d0>"
      ]
     },
     "execution_count": 176,
     "metadata": {},
     "output_type": "execute_result"
    },
    {
     "data": {
      "text/plain": [
       "<Figure size 432x288 with 0 Axes>"
      ]
     },
     "metadata": {},
     "output_type": "display_data"
    },
    {
     "data": {
      "image/png": "[encoded data removed]",
      "text/plain": [
       "<Figure size 432x288 with 1 Axes>"
      ]
     },
     "metadata": {
      "needs_background": "light"
     },
     "output_type": "display_data"
    }
   ],
   "source": [
    "importance = pd.DataFrame({ '変数' :x_train.columns, '重要度' :random_forest.feature_importances_})\n",
    "importance=importance.sort_values('重要度', ascending=True)\n",
    "importance = importance.set_index(\"変数\")\n",
    "#importance\n",
    "plt.figure()\n",
    "importance.plot.barh()\n",
    "#plt.savefig(\"importance.png\")"
   ]
  },
  {
   "cell_type": "code",
   "execution_count": 180,
   "metadata": {},
   "outputs": [
    {
     "name": "stdout",
     "output_type": "stream",
     "text": [
      "Cross-Validation scores: [0.51298327 0.45701096 0.52914022]\n",
      "Average score: 0.4997114829774956\n"
     ]
    }
   ],
   "source": [
    "scores = cross_val_score(random_forest, x, y,cv=3)\n",
    "print('Cross-Validation scores: {}'.format(scores))\n",
    "# スコアの平均値\n",
    "import numpy as np\n",
    "print('Average score: {}'.format(np.mean(scores)))"
   ]
  }
 ],
 "metadata": {
  "kernelspec": {
   "display_name": "Python 3",
   "language": "python",
   "name": "python3"
  },
  "language_info": {
   "codemirror_mode": {
    "name": "ipython",
    "version": 3
   },
   "file_extension": ".py",
   "mimetype": "text/x-python",
   "name": "python",
   "nbconvert_exporter": "python",
   "pygments_lexer": "ipython3",
   "version": "3.7.3"
  }
 },
 "nbformat": 4,
 "nbformat_minor": 2
}
